{
 "cells": [
  {
   "cell_type": "code",
   "execution_count": null,
   "metadata": {
    "id": "IQglcdpV19Bc"
   },
   "outputs": [],
   "source": [
    "# Batch Normalisation"
   ]
  },
  {
   "cell_type": "markdown",
   "metadata": {
    "id": "w6gKZIdB2hAB"
   },
   "source": [
    "# Before applying Batch Normalization"
   ]
  },
  {
   "cell_type": "code",
   "execution_count": 1,
   "metadata": {
    "id": "9TGpWqaX2axs"
   },
   "outputs": [],
   "source": [
    "import os\n",
    "import tensorflow as tf\n",
    "import numpy as np\n",
    "import matplotlib.pyplot as plt\n",
    "import pandas as pd\n",
    "import cv2\n",
    "import time\n",
    "import seaborn as sns\n",
    "plt.style.use('fivethirtyeight')\n",
    "%load_ext tensorboard"
   ]
  },
  {
   "cell_type": "code",
   "execution_count": 2,
   "metadata": {
    "colab": {
     "base_uri": "https://localhost:8080/"
    },
    "id": "e2fp8o4_3FQA",
    "outputId": "23891352-feb6-46ad-b4e5-f6079265ed8c"
   },
   "outputs": [
    {
     "name": "stdout",
     "output_type": "stream",
     "text": [
      "Downloading data from https://storage.googleapis.com/tensorflow/tf-keras-datasets/train-labels-idx1-ubyte.gz\n",
      "29515/29515 [==============================] - 0s 0us/step\n",
      "Downloading data from https://storage.googleapis.com/tensorflow/tf-keras-datasets/train-images-idx3-ubyte.gz\n",
      "26421880/26421880 [==============================] - 0s 0us/step\n",
      "Downloading data from https://storage.googleapis.com/tensorflow/tf-keras-datasets/t10k-labels-idx1-ubyte.gz\n",
      "5148/5148 [==============================] - 0s 0us/step\n",
      "Downloading data from https://storage.googleapis.com/tensorflow/tf-keras-datasets/t10k-images-idx3-ubyte.gz\n",
      "4422102/4422102 [==============================] - 0s 0us/step\n"
     ]
    }
   ],
   "source": [
    "(X_train_full, y_train_full), (X_test, y_test) = tf.keras.datasets.fashion_mnist.load_data()\n",
    "X_train_full = X_train_full / 255.0\n",
    "X_test = X_test / 255.0\n",
    "X_valid, X_train = X_train_full[:5000], X_train_full[5000:]\n",
    "y_valid, y_train = y_train_full[:5000], y_train_full[5000:]\n"
   ]
  },
  {
   "cell_type": "code",
   "execution_count": 2,
   "metadata": {
    "id": "aQqA3rHf4Q5e"
   },
   "outputs": [],
   "source": []
  },
  {
   "cell_type": "code",
   "execution_count": 3,
   "metadata": {
    "id": "7UHRWTTi4MAe"
   },
   "outputs": [],
   "source": [
    "# create layer of model\n",
    "tf.random.set_seed(42) # for getting similar output (optinal)\n",
    "np.random.seed(42)  # for getting similarlt output (optinal)\n",
    "\n",
    "LAYERS  = [tf.keras.layers.Flatten(input_shape = [28,28]),\n",
    "           tf.keras.layers.Dense(300, kernel_initializer=\"he_normal\"),\n",
    "           tf.keras.layers.LeakyReLU(),\n",
    "           tf.keras.layers.Dense(100,  kernel_initializer=\"he_normal\"),\n",
    "           tf.keras.layers.LeakyReLU(),\n",
    "           tf.keras.layers.Dense(10, activation = 'softmax')\n",
    "] # Change curly braces {} to square brackets [] to define a list\n",
    "model = tf.keras.models.Sequential(LAYERS)\n",
    "# model.compile(loss = 'sparse_categorical_crossentropy',\n",
    "#               optimizer = 'sgd',\n",
    "#               metrics = ['accuracy'])"
   ]
  },
  {
   "cell_type": "code",
   "execution_count": 4,
   "metadata": {
    "colab": {
     "base_uri": "https://localhost:8080/"
    },
    "id": "WCutyvPv4xLt",
    "outputId": "59dc18c0-f72a-4f18-daa2-0046abbbcadb"
   },
   "outputs": [
    {
     "name": "stderr",
     "output_type": "stream",
     "text": [
      "WARNING:absl:`lr` is deprecated in Keras optimizer, please use `learning_rate` or use the legacy optimizer, e.g.,tf.keras.optimizers.legacy.SGD.\n"
     ]
    }
   ],
   "source": [
    "# complier the model\n",
    "model.compile(loss = 'sparse_categorical_crossentropy',\n",
    "              optimizer = tf.keras.optimizers.SGD(lr=1e-3),\n",
    "              metrics = ['accuracy'])\n"
   ]
  },
  {
   "cell_type": "code",
   "execution_count": 5,
   "metadata": {
    "colab": {
     "base_uri": "https://localhost:8080/"
    },
    "id": "yse6lOMn4QUK",
    "outputId": "048663ba-674d-4e8c-ebef-3649697a05d3"
   },
   "outputs": [
    {
     "name": "stdout",
     "output_type": "stream",
     "text": [
      "Model: \"sequential\"\n",
      "_________________________________________________________________\n",
      " Layer (type)                Output Shape              Param #   \n",
      "=================================================================\n",
      " flatten (Flatten)           (None, 784)               0         \n",
      "                                                                 \n",
      " dense (Dense)               (None, 300)               235500    \n",
      "                                                                 \n",
      " leaky_re_lu (LeakyReLU)     (None, 300)               0         \n",
      "                                                                 \n",
      " dense_1 (Dense)             (None, 100)               30100     \n",
      "                                                                 \n",
      " leaky_re_lu_1 (LeakyReLU)   (None, 100)               0         \n",
      "                                                                 \n",
      " dense_2 (Dense)             (None, 10)                1010      \n",
      "                                                                 \n",
      "=================================================================\n",
      "Total params: 266610 (1.02 MB)\n",
      "Trainable params: 266610 (1.02 MB)\n",
      "Non-trainable params: 0 (0.00 Byte)\n",
      "_________________________________________________________________\n"
     ]
    }
   ],
   "source": [
    "model.summary()"
   ]
  },
  {
   "cell_type": "code",
   "execution_count": 7,
   "metadata": {
    "colab": {
     "base_uri": "https://localhost:8080/"
    },
    "id": "5_FQ_E0l7mZY",
    "outputId": "b37d0b47-366b-4893-e8d0-bf93d4ed2e6c"
   },
   "outputs": [
    {
     "name": "stdout",
     "output_type": "stream",
     "text": [
      "Epoch 1/30\n",
      "1719/1719 [==============================] - 9s 5ms/step - loss: 0.4841 - accuracy: 0.8298 - val_loss: 0.4568 - val_accuracy: 0.8436\n",
      "Epoch 2/30\n",
      "1719/1719 [==============================] - 9s 5ms/step - loss: 0.4432 - accuracy: 0.8435 - val_loss: 0.4140 - val_accuracy: 0.8598\n",
      "Epoch 3/30\n",
      "1719/1719 [==============================] - 7s 4ms/step - loss: 0.4184 - accuracy: 0.8525 - val_loss: 0.5277 - val_accuracy: 0.8030\n",
      "Epoch 4/30\n",
      "1719/1719 [==============================] - 10s 6ms/step - loss: 0.4008 - accuracy: 0.8601 - val_loss: 0.3884 - val_accuracy: 0.8674\n",
      "Epoch 5/30\n",
      "1719/1719 [==============================] - 8s 5ms/step - loss: 0.3881 - accuracy: 0.8641 - val_loss: 0.3752 - val_accuracy: 0.8686\n",
      "Epoch 6/30\n",
      "1719/1719 [==============================] - 7s 4ms/step - loss: 0.3738 - accuracy: 0.8691 - val_loss: 0.3757 - val_accuracy: 0.8728\n",
      "Epoch 7/30\n",
      "1719/1719 [==============================] - 9s 5ms/step - loss: 0.3649 - accuracy: 0.8721 - val_loss: 0.3651 - val_accuracy: 0.8732\n",
      "Epoch 8/30\n",
      "1719/1719 [==============================] - 7s 4ms/step - loss: 0.3563 - accuracy: 0.8742 - val_loss: 0.3943 - val_accuracy: 0.8606\n",
      "Epoch 9/30\n",
      "1719/1719 [==============================] - 12s 7ms/step - loss: 0.3485 - accuracy: 0.8774 - val_loss: 0.3610 - val_accuracy: 0.8712\n",
      "Epoch 10/30\n",
      "1719/1719 [==============================] - 11s 7ms/step - loss: 0.3414 - accuracy: 0.8789 - val_loss: 0.3582 - val_accuracy: 0.8740\n",
      "Epoch 11/30\n",
      "1719/1719 [==============================] - 10s 6ms/step - loss: 0.3348 - accuracy: 0.8803 - val_loss: 0.3557 - val_accuracy: 0.8756\n",
      "Epoch 12/30\n",
      "1719/1719 [==============================] - 7s 4ms/step - loss: 0.3271 - accuracy: 0.8822 - val_loss: 0.3411 - val_accuracy: 0.8800\n",
      "Epoch 13/30\n",
      "1719/1719 [==============================] - 9s 5ms/step - loss: 0.3215 - accuracy: 0.8851 - val_loss: 0.3405 - val_accuracy: 0.8822\n",
      "Epoch 14/30\n",
      "1719/1719 [==============================] - 7s 4ms/step - loss: 0.3169 - accuracy: 0.8861 - val_loss: 0.3697 - val_accuracy: 0.8666\n",
      "Epoch 15/30\n",
      "1719/1719 [==============================] - 8s 5ms/step - loss: 0.3105 - accuracy: 0.8884 - val_loss: 0.3433 - val_accuracy: 0.8784\n",
      "Epoch 16/30\n",
      "1719/1719 [==============================] - 8s 5ms/step - loss: 0.3066 - accuracy: 0.8910 - val_loss: 0.3248 - val_accuracy: 0.8850\n",
      "Epoch 17/30\n",
      "1719/1719 [==============================] - 7s 4ms/step - loss: 0.3021 - accuracy: 0.8923 - val_loss: 0.3686 - val_accuracy: 0.8676\n",
      "Epoch 18/30\n",
      "1719/1719 [==============================] - 9s 5ms/step - loss: 0.2968 - accuracy: 0.8922 - val_loss: 0.3309 - val_accuracy: 0.8862\n",
      "Epoch 19/30\n",
      "1719/1719 [==============================] - 8s 4ms/step - loss: 0.2931 - accuracy: 0.8947 - val_loss: 0.3253 - val_accuracy: 0.8846\n",
      "Epoch 20/30\n",
      "1719/1719 [==============================] - 9s 5ms/step - loss: 0.2886 - accuracy: 0.8976 - val_loss: 0.3520 - val_accuracy: 0.8734\n",
      "Epoch 21/30\n",
      "1719/1719 [==============================] - 8s 5ms/step - loss: 0.2844 - accuracy: 0.8974 - val_loss: 0.3189 - val_accuracy: 0.8856\n",
      "Epoch 22/30\n",
      "1719/1719 [==============================] - 9s 5ms/step - loss: 0.2805 - accuracy: 0.8984 - val_loss: 0.3113 - val_accuracy: 0.8900\n",
      "Epoch 23/30\n",
      "1719/1719 [==============================] - 9s 5ms/step - loss: 0.2773 - accuracy: 0.8991 - val_loss: 0.3168 - val_accuracy: 0.8882\n",
      "Epoch 24/30\n",
      "1719/1719 [==============================] - 8s 5ms/step - loss: 0.2736 - accuracy: 0.9013 - val_loss: 0.3230 - val_accuracy: 0.8818\n",
      "Epoch 25/30\n",
      "1719/1719 [==============================] - 8s 5ms/step - loss: 0.2697 - accuracy: 0.9022 - val_loss: 0.3122 - val_accuracy: 0.8900\n",
      "Epoch 26/30\n",
      "1719/1719 [==============================] - 9s 5ms/step - loss: 0.2663 - accuracy: 0.9041 - val_loss: 0.3168 - val_accuracy: 0.8852\n",
      "Epoch 27/30\n",
      "1719/1719 [==============================] - 8s 4ms/step - loss: 0.2639 - accuracy: 0.9052 - val_loss: 0.3118 - val_accuracy: 0.8876\n",
      "Epoch 28/30\n",
      "1719/1719 [==============================] - 9s 5ms/step - loss: 0.2612 - accuracy: 0.9053 - val_loss: 0.3225 - val_accuracy: 0.8844\n",
      "Epoch 29/30\n",
      "1719/1719 [==============================] - 10s 6ms/step - loss: 0.2573 - accuracy: 0.9072 - val_loss: 0.3353 - val_accuracy: 0.8808\n",
      "Epoch 30/30\n",
      "1719/1719 [==============================] - 7s 4ms/step - loss: 0.2545 - accuracy: 0.9082 - val_loss: 0.3340 - val_accuracy: 0.8778\n",
      "Total training time: 257.9286775588989 seconds\n"
     ]
    }
   ],
   "source": [
    "# now training and calculate the training time\n",
    "\n",
    "# Starting time\n",
    "start = time.time()\n",
    "\n",
    "history = model.fit(X_train, y_train, epochs = 30, validation_data = (X_valid, y_valid))\n",
    "\n",
    "# Ending time\n",
    "end = time.time()\n",
    "\n",
    "# Total time taken\n",
    "print(f\"Total training time: {end - start} seconds\")"
   ]
  },
  {
   "cell_type": "markdown",
   "metadata": {
    "id": "Inze-fhO4NXn"
   },
   "source": [
    "# After applying Batch Normalization"
   ]
  },
  {
   "cell_type": "code",
   "execution_count": 8,
   "metadata": {
    "id": "Cj9I5hCW3vFp"
   },
   "outputs": [],
   "source": [
    "# delete the previous model\n",
    "del model\n"
   ]
  },
  {
   "cell_type": "code",
   "execution_count": 10,
   "metadata": {
    "id": "e_gro4Z36wUr"
   },
   "outputs": [],
   "source": [
    "# Define new model with batch normalization\n",
    "LAYERS_BN = [ # changed curly braces to square brackets to define a list\n",
    "    tf.keras.layers.Flatten(input_shape = [28,28]),\n",
    "    tf.keras.layers.BatchNormalization(),\n",
    "    tf.keras.layers.Dense(300, activation=\"relu\"),\n",
    "    tf.keras.layers.BatchNormalization(),\n",
    "    tf.keras.layers.Dense(100, activation=\"relu\"),\n",
    "    tf.keras.layers.BatchNormalization(),\n",
    "    tf.keras.layers.Dense(10, activation=\"softmax\")\n",
    "]\n",
    "\n",
    "model = tf.keras.models.Sequential(LAYERS_BN)"
   ]
  },
  {
   "cell_type": "code",
   "execution_count": 11,
   "metadata": {
    "colab": {
     "base_uri": "https://localhost:8080/"
    },
    "id": "XTgkBXetC2OF",
    "outputId": "9d153b11-1de2-459c-dae2-51768a11c592"
   },
   "outputs": [
    {
     "name": "stdout",
     "output_type": "stream",
     "text": [
      "Model: \"sequential_2\"\n",
      "_________________________________________________________________\n",
      " Layer (type)                Output Shape              Param #   \n",
      "=================================================================\n",
      " flatten_2 (Flatten)         (None, 784)               0         \n",
      "                                                                 \n",
      " batch_normalization_3 (Bat  (None, 784)               3136      \n",
      " chNormalization)                                                \n",
      "                                                                 \n",
      " dense_6 (Dense)             (None, 300)               235500    \n",
      "                                                                 \n",
      " batch_normalization_4 (Bat  (None, 300)               1200      \n",
      " chNormalization)                                                \n",
      "                                                                 \n",
      " dense_7 (Dense)             (None, 100)               30100     \n",
      "                                                                 \n",
      " batch_normalization_5 (Bat  (None, 100)               400       \n",
      " chNormalization)                                                \n",
      "                                                                 \n",
      " dense_8 (Dense)             (None, 10)                1010      \n",
      "                                                                 \n",
      "=================================================================\n",
      "Total params: 271346 (1.04 MB)\n",
      "Trainable params: 268978 (1.03 MB)\n",
      "Non-trainable params: 2368 (9.25 KB)\n",
      "_________________________________________________________________\n"
     ]
    }
   ],
   "source": [
    "model.summary()"
   ]
  },
  {
   "cell_type": "code",
   "execution_count": 14,
   "metadata": {
    "id": "T1Rkud47DB_r"
   },
   "outputs": [],
   "source": [
    "bnl = model.layers[1]\n"
   ]
  },
  {
   "cell_type": "code",
   "execution_count": 19,
   "metadata": {
    "colab": {
     "base_uri": "https://localhost:8080/"
    },
    "id": "FFYkGQHpE8PJ",
    "outputId": "3128a3fd-9b6a-41bc-aa4a-c404b499959f"
   },
   "outputs": [
    {
     "name": "stdout",
     "output_type": "stream",
     "text": [
      "batch_normalization_3/gamma:0 True\n",
      "batch_normalization_3/beta:0 True\n",
      "batch_normalization_3/moving_mean:0 False\n",
      "batch_normalization_3/moving_variance:0 False\n"
     ]
    }
   ],
   "source": [
    "for variable in bnl.variables:\n",
    "  print(variable.name, variable.trainable)"
   ]
  },
  {
   "cell_type": "code",
   "execution_count": 21,
   "metadata": {
    "colab": {
     "base_uri": "https://localhost:8080/"
    },
    "id": "KQSxeVl2FD_3",
    "outputId": "73e23f90-38ef-4322-b17a-d29be5269a1d"
   },
   "outputs": [
    {
     "name": "stderr",
     "output_type": "stream",
     "text": [
      "WARNING:absl:`lr` is deprecated in Keras optimizer, please use `learning_rate` or use the legacy optimizer, e.g.,tf.keras.optimizers.legacy.SGD.\n"
     ]
    }
   ],
   "source": [
    "# complier the model\n",
    "model.compile(loss = 'sparse_categorical_crossentropy',\n",
    "              optimizer = tf.keras.optimizers.SGD(lr=1e-3),\n",
    "              metrics = ['accuracy'])"
   ]
  },
  {
   "cell_type": "code",
   "execution_count": 23,
   "metadata": {
    "colab": {
     "base_uri": "https://localhost:8080/"
    },
    "id": "r764-IsgFnSv",
    "outputId": "b2072ffd-0ec8-4f88-9057-4250812cc3e7"
   },
   "outputs": [
    {
     "name": "stdout",
     "output_type": "stream",
     "text": [
      "Epoch 1/30\n",
      "1719/1719 - 10s - loss: 0.2755 - accuracy: 0.9000 - val_loss: 0.3132 - val_accuracy: 0.8844 - 10s/epoch - 6ms/step\n",
      "Epoch 2/30\n",
      "1719/1719 - 10s - loss: 0.2615 - accuracy: 0.9036 - val_loss: 0.3124 - val_accuracy: 0.8892 - 10s/epoch - 6ms/step\n",
      "Epoch 3/30\n",
      "1719/1719 - 10s - loss: 0.2513 - accuracy: 0.9078 - val_loss: 0.3144 - val_accuracy: 0.8860 - 10s/epoch - 6ms/step\n",
      "Epoch 4/30\n",
      "1719/1719 - 9s - loss: 0.2363 - accuracy: 0.9143 - val_loss: 0.3071 - val_accuracy: 0.8842 - 9s/epoch - 5ms/step\n",
      "Epoch 5/30\n",
      "1719/1719 - 10s - loss: 0.2263 - accuracy: 0.9161 - val_loss: 0.2986 - val_accuracy: 0.8938 - 10s/epoch - 6ms/step\n",
      "Epoch 6/30\n",
      "1719/1719 - 10s - loss: 0.2222 - accuracy: 0.9196 - val_loss: 0.3064 - val_accuracy: 0.8906 - 10s/epoch - 6ms/step\n",
      "Epoch 7/30\n",
      "1719/1719 - 10s - loss: 0.2202 - accuracy: 0.9191 - val_loss: 0.3122 - val_accuracy: 0.8886 - 10s/epoch - 6ms/step\n",
      "Epoch 8/30\n",
      "1719/1719 - 9s - loss: 0.2123 - accuracy: 0.9217 - val_loss: 0.3054 - val_accuracy: 0.8864 - 9s/epoch - 5ms/step\n",
      "Epoch 9/30\n",
      "1719/1719 - 10s - loss: 0.2017 - accuracy: 0.9256 - val_loss: 0.3056 - val_accuracy: 0.8910 - 10s/epoch - 6ms/step\n",
      "Epoch 10/30\n",
      "1719/1719 - 10s - loss: 0.1956 - accuracy: 0.9286 - val_loss: 0.3031 - val_accuracy: 0.8964 - 10s/epoch - 6ms/step\n",
      "Epoch 11/30\n",
      "1719/1719 - 10s - loss: 0.1906 - accuracy: 0.9288 - val_loss: 0.3018 - val_accuracy: 0.8934 - 10s/epoch - 6ms/step\n",
      "Epoch 12/30\n",
      "1719/1719 - 9s - loss: 0.1822 - accuracy: 0.9325 - val_loss: 0.3223 - val_accuracy: 0.8908 - 9s/epoch - 5ms/step\n",
      "Epoch 13/30\n",
      "1719/1719 - 11s - loss: 0.1769 - accuracy: 0.9349 - val_loss: 0.3219 - val_accuracy: 0.8910 - 11s/epoch - 6ms/step\n",
      "Epoch 14/30\n",
      "1719/1719 - 11s - loss: 0.1705 - accuracy: 0.9375 - val_loss: 0.3179 - val_accuracy: 0.8904 - 11s/epoch - 6ms/step\n",
      "Epoch 15/30\n",
      "1719/1719 - 10s - loss: 0.1653 - accuracy: 0.9392 - val_loss: 0.3069 - val_accuracy: 0.8952 - 10s/epoch - 6ms/step\n",
      "Epoch 16/30\n",
      "1719/1719 - 10s - loss: 0.1621 - accuracy: 0.9411 - val_loss: 0.3221 - val_accuracy: 0.8926 - 10s/epoch - 6ms/step\n",
      "Epoch 17/30\n",
      "1719/1719 - 10s - loss: 0.1576 - accuracy: 0.9430 - val_loss: 0.3220 - val_accuracy: 0.8974 - 10s/epoch - 6ms/step\n",
      "Epoch 18/30\n",
      "1719/1719 - 10s - loss: 0.1500 - accuracy: 0.9445 - val_loss: 0.3288 - val_accuracy: 0.8940 - 10s/epoch - 6ms/step\n",
      "Epoch 19/30\n",
      "1719/1719 - 10s - loss: 0.1473 - accuracy: 0.9465 - val_loss: 0.3189 - val_accuracy: 0.8952 - 10s/epoch - 6ms/step\n",
      "Epoch 20/30\n",
      "1719/1719 - 10s - loss: 0.1438 - accuracy: 0.9467 - val_loss: 0.3179 - val_accuracy: 0.8960 - 10s/epoch - 6ms/step\n",
      "Epoch 21/30\n",
      "1719/1719 - 11s - loss: 0.1356 - accuracy: 0.9504 - val_loss: 0.3269 - val_accuracy: 0.8970 - 11s/epoch - 6ms/step\n",
      "Epoch 22/30\n",
      "1719/1719 - 11s - loss: 0.1323 - accuracy: 0.9510 - val_loss: 0.3271 - val_accuracy: 0.8956 - 11s/epoch - 6ms/step\n",
      "Epoch 23/30\n",
      "1719/1719 - 10s - loss: 0.1307 - accuracy: 0.9529 - val_loss: 0.3346 - val_accuracy: 0.8948 - 10s/epoch - 6ms/step\n",
      "Epoch 24/30\n",
      "1719/1719 - 9s - loss: 0.1297 - accuracy: 0.9526 - val_loss: 0.3368 - val_accuracy: 0.8968 - 9s/epoch - 5ms/step\n",
      "Epoch 25/30\n",
      "1719/1719 - 11s - loss: 0.1266 - accuracy: 0.9530 - val_loss: 0.3453 - val_accuracy: 0.8976 - 11s/epoch - 6ms/step\n",
      "Epoch 26/30\n",
      "1719/1719 - 11s - loss: 0.1211 - accuracy: 0.9565 - val_loss: 0.3476 - val_accuracy: 0.8948 - 11s/epoch - 6ms/step\n",
      "Epoch 27/30\n",
      "1719/1719 - 11s - loss: 0.1179 - accuracy: 0.9571 - val_loss: 0.3471 - val_accuracy: 0.8952 - 11s/epoch - 6ms/step\n",
      "Epoch 28/30\n",
      "1719/1719 - 9s - loss: 0.1162 - accuracy: 0.9582 - val_loss: 0.3469 - val_accuracy: 0.8938 - 9s/epoch - 5ms/step\n",
      "Epoch 29/30\n",
      "1719/1719 - 10s - loss: 0.1116 - accuracy: 0.9594 - val_loss: 0.3492 - val_accuracy: 0.8960 - 10s/epoch - 6ms/step\n",
      "Epoch 30/30\n",
      "1719/1719 - 10s - loss: 0.1105 - accuracy: 0.9601 - val_loss: 0.3452 - val_accuracy: 0.8986 - 10s/epoch - 6ms/step\n",
      "Total training time: 322.62738394737244 seconds\n"
     ]
    }
   ],
   "source": [
    "from re import VERBOSE\n",
    "# now training and calculate the training time\n",
    "\n",
    "# Starting time\n",
    "start = time.time()\n",
    "\n",
    "history = model.fit(X_train, y_train, epochs = 30, validation_data = (X_valid, y_valid), verbose = 2 )\n",
    "\n",
    "# Ending time\n",
    "end = time.time()\n",
    "\n",
    "# Total time taken\n",
    "print(f\"Total training time: {end - start} seconds\")"
   ]
  },
  {
   "cell_type": "code",
   "execution_count": null,
   "metadata": {
    "id": "aKFQdltBFwL-"
   },
   "outputs": [],
   "source": []
  }
 ],
 "metadata": {
  "accelerator": "GPU",
  "colab": {
   "gpuType": "T4",
   "provenance": []
  },
  "kernelspec": {
   "display_name": "Python 3 (ipykernel)",
   "language": "python",
   "name": "python3"
  },
  "language_info": {
   "codemirror_mode": {
    "name": "ipython",
    "version": 3
   },
   "file_extension": ".py",
   "mimetype": "text/x-python",
   "name": "python",
   "nbconvert_exporter": "python",
   "pygments_lexer": "ipython3",
   "version": "3.10.8"
  }
 },
 "nbformat": 4,
 "nbformat_minor": 4
}
